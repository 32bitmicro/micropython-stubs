{
 "cells": [
  {
   "cell_type": "code",
   "execution_count": 6,
   "metadata": {},
   "outputs": [],
   "source": []
  },
  {
   "cell_type": "code",
   "execution_count": 23,
   "metadata": {},
   "outputs": [
    {
     "name": "stdout",
     "output_type": "stream",
     "text": [
      "Found /workspaces/micropython-stubs/tests/quality_tests/check_esp32\n",
      "File typings/sys.pyi not found\n",
      "File typings/stdlib/sys.pyi not found\n",
      "File typings/stdlib/types.pyi not found\n",
      "File typings/stdlib/builtins.pyi not found\n",
      "Removing typings/stdlib/typing.pyi\n"
     ]
    }
   ],
   "source": [
    "from pathlib import Path\n",
    "\n",
    "base = Path(\"/workspaces/micropython-stubs/tests/quality_tests/check_esp32\")\n",
    "if base.exists():\n",
    "    print(f\"Found {base}\")\n",
    "\n",
    "\n",
    "for f in (\n",
    "    \"typings/sys.pyi\",\n",
    "    \"typings/stdlib/sys.pyi\",\n",
    "    \"typings/stdlib/types.pyi\",\n",
    "    \"typings/stdlib/builtins.pyi\",\n",
    "    \"typings/stdlib/typing.pyi\",\n",
    "):\n",
    "    file = base / f\n",
    "    if file.exists():\n",
    "        print(f\"Removing {f}\")\n",
    "        file.unlink()\n",
    "    else:\n",
    "        print(f\"File {f} not found\")"
   ]
  },
  {
   "cell_type": "code",
   "execution_count": 25,
   "metadata": {},
   "outputs": [
    {
     "name": "stdout",
     "output_type": "stream",
     "text": [
      "mypy: \"tests/quality_tests/feat_uasyncio/typings/stdlib/_collections_abc.pyi\" shadows library module \"_collections_abc\"\n",
      "note: A user-defined top-level module with name \"_collections_abc\" is not supported\n"
     ]
    }
   ],
   "source": [
    "\n",
    "# run mypy\n",
    "!cd  /workspaces/micropython-stubs/tests/quality_tests/check_esp32\n",
    "!mypy ."
   ]
  },
  {
   "cell_type": "code",
   "execution_count": null,
   "metadata": {},
   "outputs": [],
   "source": []
  }
 ],
 "metadata": {
  "kernelspec": {
   "display_name": "Python 3",
   "language": "python",
   "name": "python3"
  },
  "language_info": {
   "codemirror_mode": {
    "name": "ipython",
    "version": 3
   },
   "file_extension": ".py",
   "mimetype": "text/x-python",
   "name": "python",
   "nbconvert_exporter": "python",
   "pygments_lexer": "ipython3",
   "version": "3.9.17"
  }
 },
 "nbformat": 4,
 "nbformat_minor": 2
}
