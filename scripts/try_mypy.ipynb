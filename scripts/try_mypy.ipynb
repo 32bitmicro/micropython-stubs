{
 "cells": [
  {
   "cell_type": "code",
   "execution_count": null,
   "metadata": {},
   "outputs": [],
   "source": []
  },
  {
   "cell_type": "code",
   "execution_count": 24,
   "metadata": {},
   "outputs": [
    {
     "name": "stdout",
     "output_type": "stream",
     "text": [
      "Notebook Path: c:\\develop\\MyPython\\micropython-stubs\\scripts\n",
      "check_path: C:\\develop\\MyPython\\micropython-stubs\\tests\\quality_tests\\check_esp32\n"
     ]
    }
   ],
   "source": [
    "import os\n",
    "from pathlib import Path\n",
    "\n",
    "notebook_path = os.getcwd()\n",
    "check_path = Path(notebook_path, \"../tests/quality_tests/check_esp32\").resolve().absolute()\n",
    "\n",
    "print(\"Notebook Path:\", notebook_path)\n",
    "print(\"check_path:\", check_path)"
   ]
  },
  {
   "cell_type": "code",
   "execution_count": 73,
   "metadata": {},
   "outputs": [
    {
     "name": "stdout",
     "output_type": "stream",
     "text": [
      "Processing c:\\develop\\mypython\\micropython-stubs\\publish\\micropython-stdlib-stubsNote: you may need to restart the kernel to use updated packages.\n",
      "\n",
      "  Installing build dependencies: started\n",
      "  Installing build dependencies: finished with status 'done'\n",
      "  Getting requirements to build wheel: started\n",
      "  Getting requirements to build wheel: finished with status 'done'\n",
      "  Preparing metadata (pyproject.toml): started\n",
      "  Preparing metadata (pyproject.toml): finished with status 'done'\n",
      "Collecting micropython-esp32-stubs\n",
      "  Using cached micropython_esp32_stubs-1.21.0.post4-py3-none-any.whl.metadata (3.2 kB)\n",
      "Using cached micropython_esp32_stubs-1.21.0.post4-py3-none-any.whl (147 kB)\n",
      "Building wheels for collected packages: micropython-stdlib-stubs\n",
      "  Building wheel for micropython-stdlib-stubs (pyproject.toml): started\n",
      "  Building wheel for micropython-stdlib-stubs (pyproject.toml): finished with status 'done'\n",
      "  Created wheel for micropython-stdlib-stubs: filename=micropython_stdlib_stubs-1.1.1a3-py3-none-any.whl size=121918 sha256=a58e4b00b24064de30b21a2029ff78a2038605e125990cf1f3bb13198b4e6908\n",
      "  Stored in directory: c:\\users\\josverl\\appdata\\local\\pip\\cache\\wheels\\dc\\bf\\64\\badaeca3b642752745d83261430f6134cd4a4216f273387121\n",
      "Successfully built micropython-stdlib-stubs\n",
      "Installing collected packages: micropython-stdlib-stubs, micropython-esp32-stubs\n",
      "Successfully installed micropython-esp32-stubs-1.21.0.post4 micropython-stdlib-stubs-1.1.1a3\n"
     ]
    }
   ],
   "source": [
    "import shutil\n",
    "\n",
    "if os.path.exists(check_path / \"typings\"):\n",
    "    shutil.rmtree(check_path / \"typings\")\n",
    "\n",
    "os.chdir(notebook_path)\n",
    "%pip install --target {check_path}/typings --no-user \"../publish/micropython-stdlib-stubs\" micropython-esp32-stubs\n",
    "# %pip install --target {check_path}/typings --no-user micropython-esp32-stubs"
   ]
  },
  {
   "cell_type": "code",
   "execution_count": 76,
   "metadata": {},
   "outputs": [
    {
     "name": "stdout",
     "output_type": "stream",
     "text": [
      "Found C:\\develop\\MyPython\\micropython-stubs\\tests\\quality_tests\\check_esp32\n",
      "Removing typings/sys.pyi\n"
     ]
    }
   ],
   "source": [
    "if check_path.exists():\n",
    "    print(f\"Found {check_path}\")\n",
    "else:\n",
    "    Exception(f\"Path {check_path} not found\")\n",
    "\n",
    "for f in (\n",
    "    \"typings/sys.pyi\",\n",
    "    # below is only if the typings folder is checked by mypy - whichit should not do\n",
    "    # \"typings/stdlib/typing.pyi\",\n",
    "    # \"typings/stdlib/_collections_abc.pyi\",\n",
    "    # \"typings/stdlib/abc.pyi\",\n",
    "    # \"typings/stdlib/types.pyi\",\n",
    "    # \"typings/stdlib/typing_extensions.pyi\",\n",
    "    # \"typings/stdlib/_typeshed\",\n",
    "    # \"typings/stdlib/collections\",\n",
    "    # \"typings/stdlib/sys\",\n",
    "    # \"typings/stdlib/builtins.pyi\",\n",
    "):\n",
    "    file = check_path / f\n",
    "    if file.exists():\n",
    "        print(f\"Removing {f}\")\n",
    "        if file.is_file():\n",
    "            file.unlink()\n",
    "        elif file.is_dir():\n",
    "            shutil.rmtree(file)\n",
    "    else:\n",
    "        print(f\"File {f} not found\")"
   ]
  },
  {
   "cell_type": "code",
   "execution_count": 83,
   "metadata": {},
   "outputs": [
    {
     "name": "stdout",
     "output_type": "stream",
     "text": [
      "Running mypy in C:\\develop\\MyPython\\micropython-stubs\\tests\\quality_tests\\check_esp32\n",
      "Command '['mypy', '-v']' returned non-zero exit status 1.\n"
     ]
    }
   ],
   "source": [
    "import subprocess\n",
    "\n",
    "\n",
    "def run_mypy(path: Path):\n",
    "    print(f\"Running mypy in {path}\")\n",
    "    cmd = [\"mypy\", \"-v\", \"./check_esp32.py\"]\n",
    "    cmd = [\"mypy\", \"-v\", \".\"]\n",
    "    try:\n",
    "        output = subprocess.run(\n",
    "            cmd,\n",
    "            check=True,\n",
    "            cwd=path,\n",
    "            capture_output=True,\n",
    "            text=True,\n",
    "        )\n",
    "        print(output.stdout)\n",
    "        print(output.stderr)\n",
    "    except subprocess.CalledProcessError as e:\n",
    "        print(e)\n",
    "\n",
    "\n",
    "run_mypy(check_path)"
   ]
  },
  {
   "cell_type": "code",
   "execution_count": 64,
   "metadata": {},
   "outputs": [
    {
     "name": "stdout",
     "output_type": "stream",
     "text": [
      "C:\\develop\\MyPython\\micropython-stubs\\tests\\quality_tests\\check_esp32\\check_esp32.py:2: \u001b[1m\u001b[91merror:\u001b[0m Cannot find implementation or library stub for module named \u001b[0m\u001b[1m\"esp32\"\u001b[0m  \u001b[0m\u001b[93m[import-not-found]\u001b[0m\n",
      "C:\\develop\\MyPython\\micropython-stubs\\tests\\quality_tests\\check_esp32\\check_esp32.py:2: \u001b[94mnote:\u001b[0m See \u001b[4mhttps://mypy.readthedocs.io/en/stable/running_mypy.html#missing-imports\u001b[0m\u001b[0m\n",
      "C:\\develop\\MyPython\\micropython-stubs\\tests\\quality_tests\\check_esp32\\check_esp32.py:14: \u001b[1m\u001b[91merror:\u001b[0m Cannot find implementation or library stub for module named \u001b[0m\u001b[1m\"machine\"\u001b[0m  \u001b[0m\u001b[93m[import-not-found]\u001b[0m\n",
      "\u001b[1m\u001b[91mFound 2 errors in 1 file (checked 1 source file)\u001b[0m\n"
     ]
    }
   ],
   "source": [
    "\n",
    "# run mypy\n",
    "!cd  {check_path}\n",
    "# !mypy {check_path}\n",
    "!mypy {check_path}/check_esp32.py"
   ]
  },
  {
   "cell_type": "code",
   "execution_count": null,
   "metadata": {},
   "outputs": [],
   "source": []
  }
 ],
 "metadata": {
  "kernelspec": {
   "display_name": "Python 3",
   "language": "python",
   "name": "python3"
  },
  "language_info": {
   "codemirror_mode": {
    "name": "ipython",
    "version": 3
   },
   "file_extension": ".py",
   "mimetype": "text/x-python",
   "name": "python",
   "nbconvert_exporter": "python",
   "pygments_lexer": "ipython3",
   "version": "3.11.7"
  }
 },
 "nbformat": 4,
 "nbformat_minor": 2
}
